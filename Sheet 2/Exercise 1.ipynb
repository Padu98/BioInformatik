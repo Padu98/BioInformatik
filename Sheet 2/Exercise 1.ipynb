{
 "cells": [
  {
   "cell_type": "markdown",
   "id": "0f6445e8-ec83-4b5e-9e9e-9e244e8cacc2",
   "metadata": {
    "tags": []
   },
   "source": [
    "# Greedy-Superstring"
   ]
  },
  {
   "cell_type": "markdown",
   "id": "9f08eece-8a88-4b18-b925-64ef6e13a124",
   "metadata": {},
   "source": [
    "## The Algorithm"
   ]
  },
  {
   "cell_type": "markdown",
   "id": "776b35a1-0b3e-4faf-bde3-b64eb4a15b66",
   "metadata": {},
   "source": [
    "The naive implementation of the *Greedy-Superstring* implementation first calculates the overlap of every pair of disjoint strings in the inputs, this procedure runs in $\\mathcal{O}(n^3)$ where $n$ is the length of the input. Afterwards the two strings with the largest overlap are merged into one. The algorithm then calculates the new overlaps between all pairs leftover. This has to be repeated $n$ times, yielding a runtime of $\\mathcal{O}(n^4)$.\n",
    "\n",
    "The idea behind the $\\mathcal{O}(n^3)$ implementation of the algorithm is that in every merge step two strings with a maximal overlap are substituted by their merger. Afterward we only have to calculate the overlaps of the new merged string with all the other leftover strings. This can be done in $\\mathcal{O}(n^2)$ and since this procedure has to be repeated at maximum $n$ times we arrive at a $\\mathcal{O}(n^3)$ runtime."
   ]
  },
  {
   "cell_type": "code",
   "execution_count": 2,
   "id": "25ad4f07-c2ab-4361-9298-c1dd37831e7c",
   "metadata": {},
   "outputs": [],
   "source": [
    "# -*- coding: utf-8 -*-\n",
    "\"\"\"\n",
    "Created on Sat Nov 13 11:20:08 2021\n",
    "\n",
    "@author: Florian Gottscheber, Niclas Krembsler, Phillip Kojo Ampadu, Christian Singer\n",
    "\"\"\"\n",
    "# Numpy is needed because of the array data structure it provides.\n",
    "import numpy as np"
   ]
  },
  {
   "cell_type": "code",
   "execution_count": 3,
   "id": "97b58170",
   "metadata": {},
   "outputs": [],
   "source": [
    "#Algorithm 4: Set of disjoint strings\n",
    "def disjoint_string(F: list) -> list:\n",
    "    dis_str = []\n",
    "    for s in F:\n",
    "        s_super = []\n",
    "        for e in F:\n",
    "            if s in e:\n",
    "                s_super.append(e)\n",
    "        if len(s_super) == 1:\n",
    "            dis_str.append(s_super[0])\n",
    "                       \n",
    "    return dis_str\n",
    "\n",
    "# Helper for Algorithm 5\n",
    "def find_overlap(frag1, frag2):\n",
    "        # Compare possible overlaps from biggest to smallest.\n",
    "        for i in range(len(frag1)-1,0,-1):\n",
    "            # Beginning frag1 matches end frag2\n",
    "            if frag1[:i] == frag2[-i:]:\n",
    "                return i\n",
    "            # End frag1 matches beginning frag2.\n",
    "            elif frag1[-i:] == frag2[:i]:\n",
    "                return -i\n",
    "            \n",
    "        return 0   "
   ]
  },
  {
   "cell_type": "code",
   "execution_count": 4,
   "id": "cbc94911-8e0c-42ff-9d30-4e4eac74f99a",
   "metadata": {
    "tags": []
   },
   "outputs": [],
   "source": [
    "def GreedySuperstring(F: list) -> str:\n",
    "    # Remove all sequences that are subsequences.\n",
    "    dis_str = disjoint_string(F)\n",
    "    n_frags = len(dis_str)\n",
    "    # Initialize memory table for overlap between the i-th and j-th fragment in each iteration\n",
    "    Overlaps = np.zeros((n_frags, n_frags))\n",
    "    for i in range(n_frags):\n",
    "        frag1 = dis_str[i]\n",
    "        for j in range(i+1,n_frags):\n",
    "            frag2 = dis_str[j]\n",
    "            Overlaps[i,j] = find_overlap(frag1,frag2)\n",
    "    \n",
    "    # Every Iteration two fragments are merged, reducing n_frags by 1.\n",
    "    for i in range(n_frags):  \n",
    "        \n",
    "        # End merging process if no strings overlap anymore.\n",
    "        if np.max(np.abs(Overlaps)) == 0:\n",
    "            return \"\".join(dis_str)\n",
    "        \n",
    "        # Determine the pair of fragments for which the overlap is maximal.\n",
    "        max_overlap_pos = np.argmax(np.abs(Overlaps)) \n",
    "        # Since type(max_overlap_pos) is float the actual indices have to be interfered via this formula.\n",
    "        merge_idx1, merge_idx2 = max_overlap_pos // Overlaps.shape[0], max_overlap_pos % Overlaps.shape[1]\n",
    "        \n",
    "        # Actual fragments to be merged\n",
    "        m1 = dis_str[merge_idx1]\n",
    "        m2 = dis_str[merge_idx2]\n",
    "        \n",
    "        # Substitute the string m2 with empty strings, m1  will be substituted by the merged string. \n",
    "        # len(dis_str) remains constant throughout the for-loop.\n",
    "        dis_str[merge_idx2] = \"\"\n",
    "        \n",
    "        # Numerical value of the maximum overlap decided on whether to merge frag1 onto frag2 or the reverse.\n",
    "        max_overlap = int(Overlaps[merge_idx1, merge_idx2])\n",
    "        \n",
    "        # Merge non overlapping beginning of m1 with m2.\n",
    "        if max_overlap < 0:\n",
    "            merged_string = m1[:max_overlap] + m2\n",
    "            \n",
    "        # Merge m2 with non overlapping end of m1. \n",
    "        else:\n",
    "            merged_string =  m2 + m1[max_overlap:]\n",
    "        \n",
    "        # Substitute m1 with the merged string\n",
    "        dis_str[merge_idx1] = merged_string\n",
    "        \n",
    "        # Calculate new overlaps of the merged string with all the other strings left.\n",
    "        # Since m2 was substituted by \"\" there won't be any overlaps possible anymore.\n",
    "        \n",
    "        # Since Overlaps is symmetric both the merge_idx'th column and row have to be calculated again.\n",
    "        for j in range(merge_idx1+1, len(Overlaps)):\n",
    "                Overlaps[merge_idx1,j] = find_overlap(merged_string, dis_str[j])\n",
    "        \n",
    "        for i in range(merge_idx1):\n",
    "                Overlaps[i,merge_idx1] = find_overlap(dis_str[i], merged_string)\n",
    "        \n",
    "        # All overlaps of strings with the merge_idx2'th element of dis_str are zero.\n",
    "        for j in range(merge_idx2, len(Overlaps)):\n",
    "                Overlaps[merge_idx2,j] = 0\n",
    "        \n",
    "        for i in range(merge_idx2):\n",
    "                Overlaps[i,merge_idx2] = 0\n",
    "               \n",
    "        Overlaps[merge_idx1,merge_idx1] = 0\n",
    "        \n",
    "    return \"\".join(dis_str)"
   ]
  },
  {
   "cell_type": "markdown",
   "id": "26db9370-5b29-40a4-8d45-3969400db07e",
   "metadata": {},
   "source": [
    "## Unknown Text"
   ]
  },
  {
   "cell_type": "code",
   "execution_count": 8,
   "id": "9352de1d",
   "metadata": {},
   "outputs": [
    {
     "name": "stdout",
     "output_type": "stream",
     "text": [
      "Das Wohltemperierte Klavier (BWV 846â€“893) ist eine Sammlung von PrÃ¤ludien und Fugen fÃ¼r ein Tasteninstrument von Johann Sebastian Bach in zwei Teilen. Teil I stellte Bach 1722, Teil II 1740/42 fertig. Jeder Teil enthÃ¤lt 24 Satzpaare aus je einem PrÃ¤ludium und einer Fuge in allen Dur- und Molltonarten, chromatisch aufsteigend angeordnet von C-Dur bis h-Moll. Mit dem Begriff Clavier, der alle damaligen Tasteninstrumente umfasste, lieÃŸ Bach die Wahl des Instruments fÃ¼r die AusfÃ¼hrung bewusst offen. Die Orgel scheidet in den meisten FÃ¤llen aus, da Bach keine separate Pedalstimme notierte oder als solche bezeichnete und die Orgeln seiner Zeit mitteltÃ¶nig gestimmt waren. Der grÃ¶ÃŸte Teil des Werks ist offenbar fÃ¼r Clavichord oder Cembalo konzipiert. Nach einer Ã„uÃŸerung Johann Nikolaus Forkels hatte Bach eine Vorliebe fÃ¼r das Clavichord. Im Nekrolog von 1754 steht dagegen Ã¼ber Bach: Die Clavicymbale wuÃŸte er, in der Stimmung, so rein und richtig zu temperiren, daÃŸ alle Tonarten schÃ¶n und gefÃ¤llig klangen. Das Werk wird heute sowohl auf dem Cembalo als auch auf dem modernen Klavier bzw. FlÃ¼gel gespielt.\n"
     ]
    }
   ],
   "source": [
    "with open('Textfragmente.txt', \"r\") as f:\n",
    "    lines = f.read().splitlines()\n",
    "    \n",
    "text = GreedySuperstring(lines)\n",
    "print(text)"
   ]
  },
  {
   "cell_type": "markdown",
   "id": "283c8b1b-6ece-43d6-9081-2af83e99cdec",
   "metadata": {},
   "source": [
    "## Unknown DNA-Sequence, Part 1"
   ]
  },
  {
   "cell_type": "code",
   "execution_count": 11,
   "id": "8ee6d769-79ed-42a2-8949-27358bdb5623",
   "metadata": {},
   "outputs": [
    {
     "name": "stdout",
     "output_type": "stream",
     "text": [
      "TGTATACATGGAATATGTAAAGCTTTTATATGTCAGTCACACCTCAGTAAAGTGGTTTACCTATCTATCTATCTATCTATCTATCTATCTAAATTTTTTTTTCTGTTCCTAAAAAAAGGAAGGGAGAAGAGAGGAAAAGATGTTCAGGGAGCTACCATTTTGTTTCTAGCTGTGATTTTATAAAATGATAGACACTTTTATCTTTGTGTTACGTTCCTACCCCCAGTCCTCCAAATTATGGATCTGTGCCATTTGTACCGTGGACTTTTCTGTTTTCTGGGATCTGGAGAGGAAGACTCAGTCCAGAATCCTCCCAGGGCCTTGAAAGTCCATCTCTGACCCAAAACAATCCAAGTAAGTACCTAATTCCTTTGGGAGTGGGTTGTGTATCTCACAGCAACAGAGAAAAAATAGTCACTTAAAAGTTTCTCTTTGACATCTGTAATGTATGTCAATAAATGAATTCTAAGTTAGTAGAGTTTGATGATTGACTTCAGTTGTAAACTCTTCTAGCCAGGAGTTTTTCTTATACTCATTTTAAAAAAGAGAGAAACTAAAAAACAAAAAGAAGCAGAAGCAAAAGTTAATGAGTCTTAACAGTTGCTTACCTATTGAAAACTTATTTAGAAATACTCTTTTAACATTGTGGTCACCTGAGTAAATCACTGGAGATAGTGCATTTCAGAAATGTCTCCGTTCTGATTCCATAAACAATTTGACTTGTATAGTGTGCTATATTTTGGTGATTTATCAAATCTTGATGTGAGTTTGGGAGTATTGCTAATGTCAGATGACTTGGGAACTAAGAATAAGACATTTAACCTATGCTTAATTGAAATGAAATTTTTCCCTGAGGATGTTGCAACAAATACTGATGCAACTCCTGGTTAACTGATAAAGTACTGGCCAGGGACAAAGCTCTCTTGCAGCAATTTCCCACCACGTACCTCTGCCCTCTCCTCACAGCTGGAGAGGGAAAGTCATGGAATCCTTGTCCTTCCTCTTGTTTCCACCTCTTCAAGATTGGGCCAATTGCAATGGAATATCCATTGGTTGTGAGGCCTTTGTACTCTGCAAGGAAAAGAAAAGAAATGTGTGTATGTATGAGTGTGTGATGGAGCTAACTTTTCTACAATGTCTACTAACATGTCCTAGCCTTTACTTCATTCGCCTGTTTCCTTCTCACAAAAACCCTGTATGGGAGTTTTTCTTTACTTTTTATTATTATTTTTTTGAGACAAAGTCTCGCTCTGTCTCCCAGGCTGGAGTGCAGTGGCGCTATATCGGCTCACTGCAGCCTCCACCTCCCGGGTTCAAGCGATTCTCCTGCCTCAGCCTCCTGAGTAGCTGGTACTACAGGCGTGCACCACCATGCCACTATTTTTTGTATTTTTAGTAGCGGGACCTGAACTTGAGGGCGGGTCTTTCTGACTCCAAAGCCTCTTCCTGGCTACTCTGATATTGGCTATTGGCGGAGGCTGGGAAAACTTGAAATGGGGAATGCTTTCCATTTTGAATATTAATATGACAGGAAATATCAGATGGAAATATTTTTAAAAGATAGAGACGGGGTTTCACTATGTTGGCCAGACTGGTCTCGAACTCTTGACCTCAGGTGATCCGCCCGCCTCGGCTTCCCAGAGTGCTAGGATTACAGGCGTGTATGCCTATCCCCAGACTCTCTCCTCCTCCTCACCTCATTGTCTCCCCGACTTATCCTAATGCGAATTGGGTTTTTATTCAGAAGGGAGGGGCAGGAGGGAATGACAAGTGACTCACCTTGAATTCTTCCTCTAAGAAACTCACACCTGAGCTTTGAGCTATAAAGAAATCTGATGCTGTTTCTGGTGCTGTCTTAGAATCACTTCAGGAGTATTGACAAGAGGGGTAGGAACCCTTAGCCGTTTCCTGAAACCTCCTGCATAGGGCATTTTCGAGAGATTGCACCATCAGATGAGAAAACTGAGACTCAAAAAATACAAGTGACCCGTCCACAGGCAGATAGTTAGGAAATAATATTAGTGATAAATAAGAAGGCAGGAAGAAACTTTTGGAGGTGATGGATAGGTTTATGGTATAGATTGTGGTGGAGCCTGACTTACTTTAGTAATAAAATTGTCCAAGGACTAAATTTATAGATAAGATACCTCTTTGTCTCCTTATTGACAGAGTGAATGGGGCAACTGTGGCATTCCAGCCTGACAGGGGTGATTTGTAGCAAAATCGTCCTGAGACCCTTCCTC\n"
     ]
    }
   ],
   "source": [
    "with open('DNA-Fragmente 1.txt', \"r\") as f:\n",
    "    lines = f.read().splitlines()\n",
    "    \n",
    "fragments1 = GreedySuperstring(lines)\n",
    "print(fragments1)"
   ]
  },
  {
   "cell_type": "markdown",
   "id": "b67df434-d75e-45b9-86d6-ef0fb272050f",
   "metadata": {},
   "source": [
    "Observation: The length of the sequence isn't divisible by three, hence there is no reading frame that can translate all triplets into amino acids."
   ]
  },
  {
   "cell_type": "code",
   "execution_count": 26,
   "id": "021b51f8-959c-4e62-8dd2-6fe0186a9626",
   "metadata": {},
   "outputs": [
    {
     "data": {
      "text/plain": [
       "2"
      ]
     },
     "execution_count": 26,
     "metadata": {},
     "output_type": "execute_result"
    }
   ],
   "source": [
    "len(fragments1) % 3"
   ]
  },
  {
   "cell_type": "markdown",
   "id": "122da290-24a3-48e4-b888-7b1ace459781",
   "metadata": {},
   "source": [
    "## Unknown DNA-Sequence, Part 2"
   ]
  },
  {
   "cell_type": "code",
   "execution_count": 12,
   "id": "d3968109-7357-4ccb-952f-338530d013c4",
   "metadata": {},
   "outputs": [
    {
     "name": "stdout",
     "output_type": "stream",
     "text": [
      "GTGTATGCCTATCCCCAGACTCATCAAAGTGTATACATGGAATATGTAAAGCTTTTATATGTCAGTCACACCTCAGTAAAGTGGTTTACCTATCTATCTATCTATCTATCTATCTATCTATCTAAATTTTTTTTTCTGTTCCTAAAAAAAGGAAGGGAGAAGAGAGGAAAAGATGTTCAGGGAGCTACCATTTTGTTTCTAGCTGTGATTTTATAAAATGATAGACACTTTTATCTTTGTGTTACGTTCCTACCCCCAGTCCTCCAAATTATGGATCTGTGCCATTTGTACCGTGGACTTTTCTGTTTTCTGAGGATGTTGCAACAAATACTGATGCAACTCCTGGTTAACTGATAAAGTACTGGCCAGGGACAAAGCTCTCTTGTCCTGAGACCCTTCCTCAAGATTTGCAGCAATTTCCCACCACGTACCTCTGCCCTCTCCTCACAGCTGGAGAGGGAAAGTCATGGAATCCTTGTCCTTCCTCTTGTTTCCACCTCTTCAAGATTGGGCCAATTGCAATGGAATATCCATTGGTTGTGAGGCCTTTGTACTCTGCAAGGAAAAGAAAAGAAATGTGTGTATGTATGAGTGTGTGATGGAGCTAACTTTTCTACAATGTCTACTAACATGTCCTAGCCTTTACTTCATTCGCCTGTTTCCTTCTCACAAAAACCCTGTATGGGAGTTTTTCTTTACTTTTTATTATTATTTTTTTGAGACAAAGTCTCGCTCTGTCTCCCAGGCTGGAGTGCAGTGGCGCTATATCGGCTCACTGCAGCCTCCACCTCCCGGGTTCAAGCGATTCTCCTGCCTCAGCCTCCTGAGTAGCTGGTACTACAGGCGTGCACCACCATGCCACTATTTTTTGTATTTTTAGTAGAGACGGGGTTTCACTATGTTGGCCAGACTGGTCTCGAACTCTTGACCTCAGGTGATCCGCCCGCCTCGGCTTCCCAGAGTGCTAGGATTACAGGCGTGAGCCACTGCGCCCAGCCAGGAGTTTTTCTTATACTCATTTTACAGATGAGAAAACTGAGACTCAAAAAATACAAGTGACCCGTCCACAGGCAGATAGTTAGGAAGTAGCGGGACCTGAACTTGAGGGCGGGTCTTTCTGACTCCAAAGCCTCTTCCTGGCTACTCTGATATTGGCTATTGGCGGAGGCTGGGAAAACTTGAAATGGGGAATGATCGGGGAGCGGCGAGGGGGGACCAGCCGTTAAGCATTCCAGCCTGACAGGGGTGATTTGTTAAACCCAGGAACTAGTTAGACGTTTCCTGAAACCTCCTGCATAGGGCATTTTCGAGAGATTGCACCATCACTCTCTCCTCCTCCTCACCTCATTGTCTCCCCGACTTATCCTAATGCGAAATTGGATTTGTAGCAAAATCGCTGGGATCTGGAGAGGAAGACTCAGTCCAGAATCCTCCCAGGGCCTTGAAAGTCCATCTCTGACCCAAAACAATCCAAGTAAGTACCTAATTCCTTTGGGAGTGGGTTGTGTATCTCACAGCAACAGAGAAAAAATAGTCACTTAAAAGTTTCTCTTTGACATCTGTAATGTATGTCAATAAATGAATTCTAAGTTAGTAGAGTTTGATGTAAAGTCCTGAAAATTAAAAAAGAGAGAAACTAAAAAACAAAAAGAAGCAGAAGCAAAAGTTAATGAGTCTTAACAGTTGCTTACCTATTGAAAACTTATTTAGAAATACTCTTTTAACATTGTGGTCACCTGAGTAAATCACTGGAGATAGTGCATTTCAGAAATGTCTCCGTTCTGATTCCATAAACAATTTGACTTGTATAGTGTGCTATATTTTGGTGATTTATCAAATCTTGATGTGAGTTTGGGAGTATTGCTAATGTCAGATGACTTGGGAACTAAGAATAAGACATTTAACCTATGCTTAATTGAAATGAAATTTTTCCCTAGAAGAAGAGTAGGTGGAAAAAGTCTTCTTTCTTGACTTCAGTTGTAAACTCTTCTATTGCTTTCCATTTTGAATATTAATATGACAGGAAATATCAGATGGAAATATTTTTAAAAGATAGAAATGTGAGTATGACGAAGAACTTTAGTAATAAAATTGTCCAAGGACTAAATTTATAGATAAGATACCTCTTTGTCTCCTTATTGACAGAGTGAATGGGGCAACTGTGGAGCCTGACTTACTTCTTTTAATTGGGTTTTTATTCAGAAGGGAGGGGCAGGAGGGAATGACAAGTGACTCACCTTGAATTCTTCCTCTAAGAAACTCACACCTGAGCTTTGAGCTATAAAGAAATCTGATGCTGTTTCTGGTGCTGTCTTAGAATCACTTCAGGAGTATTGACAAGAGGGGTAGGAACCCTTAGAAATAATATTAGTGATAAATAAGAAGGCAGGAAGAAACTTTTGGAGGTGATGGATAGGTTTATGGTATAGATTGTGGTGATGATTTAATGA\n"
     ]
    }
   ],
   "source": [
    "with open('DNA-Fragmente 2.txt', \"r\") as f:\n",
    "    lines = f.read().splitlines()\n",
    "    \n",
    "fragments2 = GreedySuperstring(lines)\n",
    "print(fragments2)"
   ]
  },
  {
   "cell_type": "markdown",
   "id": "13d112bc-99e2-4dc0-93b2-f7ca32c3e9da",
   "metadata": {},
   "source": [
    "## Unknown DNA-Sequence, Part 3"
   ]
  },
  {
   "cell_type": "code",
   "execution_count": 13,
   "id": "47134e56-99bf-4fcc-be48-756b45f4c115",
   "metadata": {},
   "outputs": [
    {
     "name": "stdout",
     "output_type": "stream",
     "text": [
      "ACTCTCTCCTCCTCCTCACCTCATTGTCTCCCCGACTTATCCTAATGCGAAATTGGATTCTGAGCATTTGTAGCAAAATCGCTGGGATCTGGAGAGGAAGACTCAGTCCAGAATCCTCCCAGGGCCTTGAAAGTCCATCTCTGACCCAAAACAATCCAAGTAAGTACCTAATTCCTTTGGGAGTGGGTTGTGTATCTCACAGCAACAGAGAAAAAATAGTCACTTAAAAGTTTCTCTTTGACATCTGTAATGTATGTCAATAAATGAATTCTAAGTTAGTAGAGTTTGATGTAAAGTCCTGAAAATTAAAAAAGAGAGAAACTAAAAAACAAAAAGAAGCAGAAGCAAAAGTTAATGAGTCTTAACAGTTGCTTACCTATTGAAAACTTATTTAGAAATACTCTTTTAACATTGTGGTCACCTGAGTAAATCACTGGAGATAGTGCATTTCAGAAATGTCTCCGTTCTGATTCCATAAACAATTTGACTTGTATAGTGTGCTATATTTTGGTGATTTATCAAATCTTGATGTGAGTTTGGGAGTATTGCTAATGTCAGATGACTTGGGAACTAAGAATAAGACATTTAACCTATGCTTAATTGAAATGAAATTTTTCCCTAGAAGAAGAGTAGGTGGAAAAAGTCTTCTTTCTTGACTTCAGTTGTAAACTCTTCTATTGCTTTCCATTTTGAATATTAATATGACAGGAAATATCAGATGGAAATATTTTTAAAAGATAGAAATGTGAGTATGACGAAGAACTTTAGTAATAAAATTGTCCAAGGACTAAATTTATAGATAAGATACCTCTTTGTCTCCTTATTGACAGAGTGAATGGGGCAACTGTGGAGCCTGACTTACTTCTTTTAATTGGGTTTTTATTCAGAAGGGAGGGGCAGGAGGGAATGACAAGTGACTCACCTTGAATTCTTCCTCTAAGAAACTCACACCTGAGCTTTGAGCTATAAAGAAATCTGATGCTGTTTCTGGTGCTGTCTTAGAATCACTTCAGGAGTATTGACAAGAGGGGTAGGAACCCTTAGAAATAATATTAGTGATAAATAAGAAGGCAGGAAGAAACTTTTGGAGGTGATGGATAGGTTTATGGTATAGATTGTGGTGATGATTTAATGAGTGTATGCCTATCCCCAGACTCATCAAAGTGTATACATGGAATATGTAAAGCTTTTATATGTCAGTCACACCTCAGTAAAGTGGTTTACCTATCTATCTATCTATCTATCTATCTATCTATCTAAATTTTTTTTTCTGTTCCTAAAAAAAGGAAGGGAGAAGAGAGGAAAAGATGTTCAGGGAGCTACCATTTTGTTTCTAGCTGTGATTTTATAAAATGATAGACACTTTTATCTTTGTGTTACGTTCCTACCCCCAGTCCTCCAAATTATGGATCTGTGCCATTTGTACCGTGGACTTTTCTGTTTTCTGAGGATGTTGCAACAAATACTGATGCAACTCCTGGTTAACTGATAAAGTACTGGCCAGGGACAAAGCTCTCTTGTCCTGAGACCCTTCCTCAAGATTTGCAGCAATTTCCCACCACGTACCTCTGCCCTCTCCTCACAGCTGGAGAGGGAAAGTCATGGAATCCTTGTCCTTCCTCTTGTTTCCACCTCTTCAAGATTGGGCCAATTGCAATGGAATATCCATTGGTTGTGAGGCCTTTGTACTCTGCAAGGAAAAGAAAAGAAATGTGTGTATGTATGAGTGTGTGATGGAGCTAACTTTTCTACAATGTCTACTAACATGTCCTAGCCTTTACTTCATTCGCCTGTTTCCTTCTCACAAAAACCCTGTATGGGAGTTTTTCTTTACTTTTTATTATTATTTTTTTGAGACAAAGTCTCGCTCTGTCTCCCAGGCTGGAGTGCAGTGGCGCTATATCGGCTCACTGCAGCCTCCACCTCCCGGGTTCAAGCGATTCTCCTGCCTCAGCCTCCTGAGTAGCTGGTACTACAGGCGTGCACCACCATGCCACTATTTTTTGTATTTTTAGTAGAGACGGGGTTTCACTATGTTGGCCAGACTGGTCTCGAACTCTTGACCTCAGGTGATCCGCCCGCCTCGGCTTCCCAGAGTGCTAGGATTACAGGCGTGAGCCACTGCGCCCAGCCAGGAGTTTTTCTTATACTCATTTTACAGATGAGAAAACTGAGACTCAAAAAATACAAGTGACCCGTCCACAGGCAGATAGTTAGGAAGTAGCGGGACCTGAACTTGAGGGCGGGTCTTTCTGACTCCAAAGCCTCTTCCTGGCTACTCTGATATTGGCTATTGGCGGAGGCTGGGAAAACTTGAAATGGGGAATGATCGGGGAGCGGCGAGGGGGGACCAGCCGTTAAGCATTCCAGCCTGACAGGGGTGATTTGTTAAACCCAGGAACTAGTTAGACGTTTCCTGAAACCTCCTGCATAGGGCATTTTCGAGAGATTGCACCATCA\n"
     ]
    }
   ],
   "source": [
    "with open('DNA-Fragmente 3.txt', \"r\") as f:\n",
    "    lines = f.read().splitlines()\n",
    "    \n",
    "fragments3 = GreedySuperstring(lines)\n",
    "print(fragments3)"
   ]
  },
  {
   "cell_type": "markdown",
   "id": "3816cf68-67d3-4aae-820c-2034191875b9",
   "metadata": {},
   "source": [
    "Observation: The length of the sequence is divisible by three, hence there is now a reading frame that can translate all triplets into amino acids."
   ]
  },
  {
   "cell_type": "code",
   "execution_count": 28,
   "id": "a82307fd-91f9-40ba-acca-05ba97a9c4cc",
   "metadata": {},
   "outputs": [
    {
     "data": {
      "text/plain": [
       "0"
      ]
     },
     "execution_count": 28,
     "metadata": {},
     "output_type": "execute_result"
    }
   ],
   "source": [
    "len(fragments3) % 3"
   ]
  }
 ],
 "metadata": {
  "kernelspec": {
   "display_name": "Python 3 (ipykernel)",
   "language": "python",
   "name": "python3"
  },
  "language_info": {
   "codemirror_mode": {
    "name": "ipython",
    "version": 3
   },
   "file_extension": ".py",
   "mimetype": "text/x-python",
   "name": "python",
   "nbconvert_exporter": "python",
   "pygments_lexer": "ipython3",
   "version": "3.8.11"
  },
  "toc-autonumbering": true
 },
 "nbformat": 4,
 "nbformat_minor": 5
}
